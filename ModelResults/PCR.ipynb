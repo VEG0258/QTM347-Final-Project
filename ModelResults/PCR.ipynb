{
 "cells": [
  {
   "cell_type": "code",
   "execution_count": 24,
   "metadata": {},
   "outputs": [],
   "source": [
    "import pandas as pd\n",
    "import matplotlib.pyplot as plt\n",
    "import numpy as np\n",
    "import seaborn as sns\n",
    "import pandas as pd\n",
    "import statsmodels.api as sm\n",
    "from sklearn.model_selection import train_test_split\n",
    "from sklearn.linear_model import LinearRegression\n",
    "from sklearn.metrics import mean_squared_error\n",
    "from sklearn.impute import SimpleImputer\n",
    "from sklearn.preprocessing import OneHotEncoder\n",
    "from sklearn.compose import ColumnTransformer\n",
    "from sklearn.pipeline import Pipeline\n",
    "from sklearn.preprocessing import StandardScaler\n",
    "from fancyimpute import IterativeImputer\n",
    "from sklearn.linear_model import LogisticRegression\n",
    "from sklearn.decomposition import PCA\n",
    "from sklearn.model_selection import cross_val_score\n",
    "from sklearn.preprocessing import StandardScaler\n",
    "from sklearn.metrics import accuracy_score"
   ]
  },
  {
   "cell_type": "code",
   "execution_count": 17,
   "metadata": {},
   "outputs": [],
   "source": [
    "df= pd.read_csv('/Users/chris/Library/Containers/com.tencent.xinWeChat/Data/Library/Application Support/com.tencent.xinWeChat/2.0b4.0.9/cb57adccddf5921e6681fe69a9347f09/Message/MessageTemp/79fbb2b8df6d7d1ae4bb6e6a26080f74/File/df_final.csv')"
   ]
  },
  {
   "cell_type": "code",
   "execution_count": 18,
   "metadata": {},
   "outputs": [],
   "source": [
    "# List of columns to remove from the DataFrame\n",
    "columns_to_remove = [\n",
    "    'ADM_RATE_ALL',\n",
    "    'CONTROL',\n",
    "    'PCTFLOAN',\n",
    "    'UGDS',\n",
    "    'ICLEVEL',\n",
    "    'CDR3',\n",
    "    'COMP_ORIG_YR4_RT',\n",
    "    'GRAD_DEBT_MDN',\n",
    "    'TUITFTE'\n",
    "]\n",
    "\n",
    "# Remove the listed columns\n",
    "df = df.drop(columns_to_remove, axis=1)\n",
    "\n",
    "# Handle missing values\n",
    "df = df.dropna()\n",
    "\n",
    "# Split the data into features and target\n",
    "X = df.drop('RPY_3YR_RT', axis=1)\n",
    "y = df['RPY_3YR_RT']\n",
    "\n",
    "# Split the data into a training set (80%) and a test set (20%)\n",
    "X_train, X_test, y_train, y_test = train_test_split(X, y, test_size=0.2, random_state=42)\n",
    "\n",
    "# Standardize the data\n",
    "scaler = StandardScaler()\n",
    "X_train_scaled = scaler.fit_transform(X_train)\n",
    "X_test_scaled = scaler.transform(X_test)"
   ]
  },
  {
   "cell_type": "code",
   "execution_count": 22,
   "metadata": {},
   "outputs": [],
   "source": [
    "\n",
    "\n",
    "# Initialize lists to store accuracies for different numbers of principal components\n",
    "train_accuracies = []\n",
    "val_accuracies = []"
   ]
  },
  {
   "cell_type": "code",
   "execution_count": 25,
   "metadata": {},
   "outputs": [
    {
     "data": {
      "text/plain": [
       "(7, 0.8590388095716871, 0.8432475884244373)"
      ]
     },
     "execution_count": 25,
     "metadata": {},
     "output_type": "execute_result"
    }
   ],
   "source": [
    "# Convert the target variable into a binary classification problem using the median repayment rate as the threshold\n",
    "threshold = df['RPY_3YR_RT'].median()\n",
    "y_binary = (df['RPY_3YR_RT'] > threshold).astype(int)\n",
    "\n",
    "# Split the data into training and testing sets with the binary target variable\n",
    "X_train, X_test, y_train, y_test = train_test_split(X, y_binary, test_size=0.2, random_state=42)\n",
    "\n",
    "# Standardize the data\n",
    "X_train_scaled = scaler.fit_transform(X_train)\n",
    "X_test_scaled = scaler.transform(X_test)\n",
    "\n",
    "# Initialize lists to store accuracies for different numbers of principal components\n",
    "val_accuracies = []\n",
    "\n",
    "# Iterate over the possible number of components (1 to 7)\n",
    "for n in range(1, 8):\n",
    "    pca = PCA(n_components=n)\n",
    "    X_train_pca = pca.fit_transform(X_train_scaled)\n",
    "    \n",
    "    logistic_regression = LogisticRegression(max_iter=10000)\n",
    "    logistic_regression.fit(X_train_pca, y_train)\n",
    "    \n",
    "    # Cross-validation\n",
    "    val_accuracy = cross_val_score(logistic_regression, X_train_pca, y_train, cv=5, scoring='accuracy').mean()\n",
    "    \n",
    "    # Store the validation accuracy\n",
    "    val_accuracies.append(val_accuracy)\n",
    "\n",
    "# Determine the optimal number of components based on validation accuracy\n",
    "optimal_n_components = val_accuracies.index(max(val_accuracies)) + 1\n",
    "\n",
    "# Train the logistic regression model using the optimal number of components\n",
    "pca = PCA(n_components=optimal_n_components)\n",
    "X_train_pca = pca.fit_transform(X_train_scaled)\n",
    "X_test_pca = pca.transform(X_test_scaled)\n",
    "\n",
    "logistic_regression = LogisticRegression(max_iter=10000)\n",
    "logistic_regression.fit(X_train_pca, y_train)\n",
    "\n",
    "# Evaluate the model's performance on training and test sets\n",
    "y_train_pred = logistic_regression.predict(X_train_pca)\n",
    "y_test_pred = logistic_regression.predict(X_test_pca)\n",
    "\n",
    "train_accuracy = accuracy_score(y_train, y_train_pred)\n",
    "test_accuracy = accuracy_score(y_test, y_test_pred)\n",
    "\n",
    "optimal_n_components, train_accuracy, test_accuracy\n"
   ]
  }
 ],
 "metadata": {
  "kernelspec": {
   "display_name": "base",
   "language": "python",
   "name": "python3"
  },
  "language_info": {
   "codemirror_mode": {
    "name": "ipython",
    "version": 3
   },
   "file_extension": ".py",
   "mimetype": "text/x-python",
   "name": "python",
   "nbconvert_exporter": "python",
   "pygments_lexer": "ipython3",
   "version": "3.9.12"
  }
 },
 "nbformat": 4,
 "nbformat_minor": 2
}
